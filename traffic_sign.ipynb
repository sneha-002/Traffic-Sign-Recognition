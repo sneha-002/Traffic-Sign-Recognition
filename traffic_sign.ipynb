{
  "cells": [
    {
      "cell_type": "markdown",
      "metadata": {
        "id": "view-in-github",
        "colab_type": "text"
      },
      "source": [
        "<a href=\"https://colab.research.google.com/github/sneha-002/Traffic-Sign-Recognition/blob/main/traffic_sign.ipynb\" target=\"_parent\"><img src=\"https://colab.research.google.com/assets/colab-badge.svg\" alt=\"Open In Colab\"/></a>"
      ]
    },
    {
      "cell_type": "code",
      "execution_count": null,
      "metadata": {
        "id": "fDOZsZI1nrlc"
      },
      "outputs": [],
      "source": [
        "#install kaggle\n",
        "!pip install -q kaggle"
      ]
    },
    {
      "cell_type": "code",
      "execution_count": null,
      "metadata": {
        "id": "OIwmNRLiqldo"
      },
      "outputs": [],
      "source": [
        "# uploading json file\n",
        "from google.colab import files\n",
        "files.upload()"
      ]
    },
    {
      "cell_type": "code",
      "execution_count": null,
      "metadata": {
        "id": "gtbdCoq2rH8D"
      },
      "outputs": [],
      "source": [
        "# create kaggle folder\n",
        "! mkdir ~/.kaggle"
      ]
    },
    {
      "cell_type": "code",
      "execution_count": null,
      "metadata": {
        "id": "dqP-GzZErgQH"
      },
      "outputs": [],
      "source": [
        "#copy json.file to kaggle folder\n",
        "!cp kaggle.json ~/.kaggle/"
      ]
    },
    {
      "cell_type": "code",
      "execution_count": null,
      "metadata": {
        "id": "6AlGTjvQr602"
      },
      "outputs": [],
      "source": [
        "#permission for json to act\n",
        "! chmod 600 ~/.kaggle/kaggle.json"
      ]
    },
    {
      "cell_type": "code",
      "execution_count": null,
      "metadata": {
        "id": "5q9roCFmsSom"
      },
      "outputs": [],
      "source": [
        "#list all datasets in kaggle\n",
        "! kaggle datasets download -d meowmeowmeowmeowmeow/gtsrb-german-traffic-sign"
      ]
    },
    {
      "cell_type": "code",
      "execution_count": null,
      "metadata": {
        "id": "HnnWK4uolMjc"
      },
      "outputs": [],
      "source": []
    },
    {
      "cell_type": "code",
      "execution_count": null,
      "metadata": {
        "id": "CkH01ZtQtQjP"
      },
      "outputs": [],
      "source": [
        "# unzip the dataset\n",
        "! unzip gtsrb-german-traffic-sign.zip"
      ]
    },
    {
      "cell_type": "code",
      "execution_count": null,
      "metadata": {
        "id": "YbbcjYH4twq6"
      },
      "outputs": [],
      "source": [
        "import numpy as np\n",
        "import matplotlib.pyplot as plt\n",
        "import cv2\n",
        "import os\n",
        "from os import listdir\n",
        "import tensorflow as tf\n",
        "from tensorflow.keras import layers\n",
        "from tensorflow.keras.models import Sequential, load_model\n",
        "from tensorflow.keras.layers import Conv2D, MaxPool2D, Dense, Flatten, Dropout\n",
        "from tensorflow.keras.optimizers import Adam\n",
        "from sklearn.model_selection import train_test_split\n",
        "from sklearn.metrics import f1_score\n",
        "from sklearn.utils import shuffle\n",
        "from keras.models import *\n",
        "from keras.layers import *\n",
        "from keras import *\n",
        "from tensorflow import keras\n",
        "from PIL import Image, ImageOps\n",
        "from keras.models import Model, load_model\n",
        "from keras.layers import Input ,BatchNormalization , Activation\n",
        "from keras.layers.convolutional import Conv2D, UpSampling2D\n",
        "from keras.layers.pooling import MaxPooling2D\n",
        "from tensorflow.keras.utils import to_categorical\n",
        "from keras import optimizers\n",
        "os.chdir('/content/train')"
      ]
    },
    {
      "cell_type": "code",
      "execution_count": null,
      "metadata": {
        "id": "S4U-wVRumrdI"
      },
      "outputs": [],
      "source": [
        "#preprocessing the image\n",
        "data =[]\n",
        "labels = []\n",
        "data1=[]\n",
        "classes =43\n",
        "y=1\n",
        "cur_path = os.getcwd()\n",
        "print(cur_path)\n",
        "for i in range(classes):\n",
        "    path = os.path.join(cur_path,str(i))\n",
        "    #print(path)\n",
        "    images = os.listdir(path)\n",
        "    for a in images:\n",
        "        try:\n",
        "            image = Image.open(path +'//'+ a)\n",
        "            image = image.resize((30,30))\n",
        "            # Resizing all images into 30*30\n",
        "            image =np.array(image)\n",
        "            data.append(image)\n",
        "            labels.append(i)\n",
        "        except Exception as e:\n",
        "            print(e)"
      ]
    },
    {
      "cell_type": "code",
      "execution_count": null,
      "metadata": {
        "id": "uKKJZrKgmwoz"
      },
      "outputs": [],
      "source": [
        "data1=np.array(data1)\n",
        "data = np.array(data)\n",
        "labels = np.array(labels)\n",
        "print(data1.shape,data.shape, labels.shape)"
      ]
    },
    {
      "cell_type": "code",
      "execution_count": null,
      "metadata": {
        "id": "T2dbtmXPm4CN"
      },
      "outputs": [],
      "source": [
        "X_train, X_test, y_train, y_test =train_test_split(data, labels, test_size=0.2, random_state=0)\n",
        "print(X_train.shape, X_test.shape, y_train.shape, y_test.shape)"
      ]
    },
    {
      "cell_type": "code",
      "execution_count": null,
      "metadata": {
        "id": "M1MfNMqTm6hZ"
      },
      "outputs": [],
      "source": [
        "y_train = to_categorical(y_train,43)\n",
        "y_test = to_categorical(y_test,43)\n"
      ]
    },
    {
      "cell_type": "code",
      "execution_count": null,
      "metadata": {
        "id": "okty-kYkm_FY"
      },
      "outputs": [],
      "source": [
        "model = Sequential()\n",
        "model.add(Conv2D(filters=16, kernel_size=(3,3), activation='relu', input_shape=X_train.shape[1:]))\n",
        "model.add(Conv2D(filters=32, kernel_size=(3,3), activation='relu'))\n",
        "model.add(MaxPool2D(pool_size=(2,2)))\n",
        "model.add(BatchNormalization(axis=-1))\n",
        "model.add(Conv2D(filters=64, kernel_size=(3,3), activation='relu'))\n",
        "model.add(Conv2D(filters=128, kernel_size=(3,3), activation='relu'))\n",
        "model.add(MaxPool2D(pool_size=(2,2)))\n",
        "model.add(BatchNormalization(axis=-1))\n",
        "model.add(Conv2D(filters=256, kernel_size=(3,3), activation='relu'))\n",
        "model.add(MaxPool2D(pool_size=(2,2)))\n",
        "model.add(BatchNormalization(axis=-1))\n",
        "model.add(Flatten())\n",
        "model.add(Dense(512, activation='relu'))\n",
        "model.add(BatchNormalization())\n",
        "model.add(Dropout(rate=0.5))\n",
        "model.add(Dense(43, activation='softmax'))"
      ]
    },
    {
      "cell_type": "code",
      "execution_count": null,
      "metadata": {
        "id": "tGo8v49TnHv7"
      },
      "outputs": [],
      "source": [
        "model.summary()"
      ]
    },
    {
      "cell_type": "code",
      "execution_count": null,
      "metadata": {
        "colab": {
          "background_save": true
        },
        "id": "GTxPCjQSnMQN"
      },
      "outputs": [],
      "source": [
        "#Compilation of the model\n",
        "model.compile(loss='categorical_crossentropy', optimizer='adam', metrics=['accuracy'])\n",
        "from keras.preprocessing.image import ImageDataGenerator\n",
        "aug = ImageDataGenerator(\n",
        "    rotation_range=10,\n",
        "    zoom_range=0.15,\n",
        "    width_shift_range=0.1,\n",
        "    height_shift_range=0.1,\n",
        "    shear_range=0.15,\n",
        "    horizontal_flip=False,\n",
        "    vertical_flip=False,\n",
        "    fill_mode=\"nearest\")\n",
        "history=model.fit(aug.flow(X_train, y_train, batch_size=32), epochs=20, validation_data=(X_test, y_test))"
      ]
    },
    {
      "cell_type": "code",
      "execution_count": null,
      "metadata": {
        "id": "oc4ObzdPIksg"
      },
      "outputs": [],
      "source": []
    },
    {
      "cell_type": "code",
      "execution_count": null,
      "metadata": {
        "id": "1WJSSvNx32xL"
      },
      "outputs": [],
      "source": [
        "model.save(\"./training/TSR.h5\")"
      ]
    },
    {
      "cell_type": "code",
      "execution_count": null,
      "metadata": {
        "id": "O0rBQJWL4C_O"
      },
      "outputs": [],
      "source": [
        "plt.figure(0)\n",
        "plt.plot(history.history['accuracy'], label='training accuracy')\n",
        "plt.plot(history.history['val_accuracy'], label='val accuracy')\n",
        "plt.title('Accuracy')\n",
        "plt.xlabel('epochs')\n",
        "plt.ylabel('accuracy')\n",
        "plt.legend()\n",
        "plt.show()\n",
        "plt.figure(1)\n",
        "plt.plot(history.history['loss'], label='training loss')\n",
        "plt.plot(history.history['val_loss'], label='val loss')\n",
        "plt.title('Loss')\n",
        "plt.xlabel('epochs')\n",
        "plt.ylabel('loss')\n",
        "plt.legend()\n",
        "plt.show()"
      ]
    },
    {
      "cell_type": "code",
      "execution_count": null,
      "metadata": {
        "id": "Uim49l404R-5"
      },
      "outputs": [],
      "source": [
        "import os\n",
        "os.chdir('/content/Train')\n",
        "from keras.models import load_model\n",
        "model=load_model(r\"./training/TSR.h5\")"
      ]
    },
    {
      "cell_type": "code",
      "execution_count": null,
      "metadata": {
        "id": "FJK_Km2D5-9P"
      },
      "outputs": [],
      "source": [
        "classes = { 0:'Speed limit (20km/h)',\n",
        "            1:'Speed limit (30km/h)',\n",
        "            2:'Speed limit (50km/h)',\n",
        "            3:'Speed limit (60km/h)',\n",
        "            4:'Speed limit (70km/h)',\n",
        "            5:'Speed limit (80km/h)',\n",
        "            6:'End of speed limit (80km/h)',\n",
        "            7:'Speed limit (100km/h)',\n",
        "            8:'Speed limit (120km/h)',\n",
        "            9:'No passing',\n",
        "            10:'No passing veh over 3.5 tons',\n",
        "            11:'Right-of-way at intersection',\n",
        "            12:'Priority road',\n",
        "            13:'Yield',\n",
        "            14:'Stop',\n",
        "            15:'No vehicles',\n",
        "            16:'Vehicle > 3.5 tons prohibited',\n",
        "            17:'No entry',\n",
        "            18:'General caution',\n",
        "            19:'Dangerous curve left',\n",
        "            20:'Dangerous curve right',\n",
        "            21:'Double curve',\n",
        "            22:'Bumpy road',\n",
        "            23:'Slippery road',\n",
        "            24:'Road narrows on the right',\n",
        "            25:'Road work',\n",
        "            26:'Traffic signals',\n",
        "            27:'Pedestrians',\n",
        "            28:'Children crossing',\n",
        "            29:'Bicycles crossing',\n",
        "            30:'Beware of ice/snow',\n",
        "            31:'Wild animals crossing',\n",
        "            32:'End speed + passing limits',\n",
        "            33:'Turn right ahead',\n",
        "            34:'Turn left ahead',\n",
        "            35:'Ahead only',\n",
        "            36:'Go straight or right',\n",
        "            37:'Go straight or left',\n",
        "            38:'Keep right',\n",
        "            39:'Keep left',\n",
        "            40:'Roundabout mandatory',\n",
        "            41:'End of no passing',\n",
        "            42:'End no passing vehicle > 3.5 tons' }"
      ]
    },
    {
      "cell_type": "code",
      "execution_count": null,
      "metadata": {
        "id": "fjwb5ixK6RUG"
      },
      "outputs": [],
      "source": [
        "#y=np.expand_dims(x_train[653],0)\n",
        "x=plt.imread('/content/Test/00001.png',0)\n",
        "#x=cv2.cvtColor(x, cv2.COLOR_GRAY2RGB )\n",
        "x=cv2.resize(x, dsize=(30,30), interpolation=cv2.INTER_CUBIC)\n",
        "plt.imshow(x)\n",
        "plt.show()\n",
        "print(x.shape)\n",
        "y=np.expand_dims(x,0)\n",
        "h= model.predict(y)\n",
        "#print(h)\n",
        "a=np.argmax(h)\n",
        "#print(argmax(h))\n",
        "#print(a)\n",
        "print(classes[a])"
      ]
    }
  ],
  "metadata": {
    "colab": {
      "provenance": [],
      "include_colab_link": true
    },
    "kernelspec": {
      "display_name": "Python 3",
      "name": "python3"
    },
    "language_info": {
      "name": "python"
    }
  },
  "nbformat": 4,
  "nbformat_minor": 0
}